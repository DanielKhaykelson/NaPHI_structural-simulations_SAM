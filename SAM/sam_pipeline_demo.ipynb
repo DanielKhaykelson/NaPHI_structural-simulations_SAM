{
 "cells": [
  {
   "cell_type": "markdown",
   "id": "473a1b06",
   "metadata": {},
   "source": [
    "# SAM Pipeline Demo\n",
    "This notebook demonstrates how to use the SamMaskProcessor class."
   ]
  },
  {
   "cell_type": "markdown",
   "id": "6282789d-cb68-4eac-9d40-8c593e1e4327",
   "metadata": {},
   "source": [
    "## #Test cuda "
   ]
  },
  {
   "cell_type": "code",
   "execution_count": 1,
   "id": "628c843f-c63a-4e29-8b0c-b71ef55ded84",
   "metadata": {},
   "outputs": [
    {
     "name": "stdout",
     "output_type": "stream",
     "text": [
      "============================================================\n",
      "🔧 SYSTEM INFO\n",
      "OS: Windows 10\n",
      "Python: 3.8.8\n",
      "PyTorch: 2.4.0+cu118\n",
      "CUDA available: True\n",
      "CUDA version: 11.8\n",
      "cuDNN version: 90100\n",
      "GPU count: 1\n",
      "  - GPU 0: NVIDIA GeForce RTX 4080\n",
      "============================================================\n"
     ]
    }
   ],
   "source": [
    "import torch\n",
    "import os\n",
    "import platform\n",
    "\n",
    "def print_env_info():\n",
    "    print(\"=\" * 60)\n",
    "    print(\"🔧 SYSTEM INFO\")\n",
    "    print(f\"OS: {platform.system()} {platform.release()}\")\n",
    "    print(f\"Python: {platform.python_version()}\")\n",
    "    print(f\"PyTorch: {torch.__version__}\")\n",
    "    print(f\"CUDA available: {torch.cuda.is_available()}\")\n",
    "    print(f\"CUDA version: {torch.version.cuda}\")\n",
    "    print(f\"cuDNN version: {torch.backends.cudnn.version()}\")\n",
    "    print(f\"GPU count: {torch.cuda.device_count()}\")\n",
    "    if torch.cuda.is_available():\n",
    "        for i in range(torch.cuda.device_count()):\n",
    "            print(f\"  - GPU {i}: {torch.cuda.get_device_name(i)}\")\n",
    "\n",
    "    print(\"=\" * 60)\n",
    "    \n",
    "\n",
    "# Call this once at the top of your notebook or script\n",
    "print_env_info()\n"
   ]
  },
  {
   "cell_type": "markdown",
   "id": "4fb1a3e1",
   "metadata": {},
   "source": [
    "## 1. Import the Module"
   ]
  },
  {
   "cell_type": "code",
   "execution_count": 2,
   "id": "3d11a35c-166b-4b6f-abcf-547dce37dc4a",
   "metadata": {},
   "outputs": [],
   "source": [
    "from segment_anything import sam_model_registry, SamAutomaticMaskGenerator\n",
    "from sam_image_utils import SamMaskProcessor\n",
    "\n",
    "import numpy as np\n",
    "import pickle\n",
    "import matplotlib.pyplot as plt"
   ]
  },
  {
   "cell_type": "markdown",
   "id": "86edfe59",
   "metadata": {},
   "source": [
    "## 2. Initialize Processor"
   ]
  },
  {
   "cell_type": "code",
   "execution_count": 3,
   "id": "846af490",
   "metadata": {},
   "outputs": [
    {
     "name": "stderr",
     "output_type": "stream",
     "text": [
      "c:\\users\\danielkh\\jupyter_lab_env\\jupyterlab_env\\lib\\site-packages\\segment_anything\\build_sam.py:105: FutureWarning: You are using `torch.load` with `weights_only=False` (the current default value), which uses the default pickle module implicitly. It is possible to construct malicious pickle data which will execute arbitrary code during unpickling (See https://github.com/pytorch/pytorch/blob/main/SECURITY.md#untrusted-models for more details). In a future release, the default value for `weights_only` will be flipped to `True`. This limits the functions that could be executed during unpickling. Arbitrary objects will no longer be allowed to be loaded via this mode unless they are explicitly allowlisted by the user via `torch.serialization.add_safe_globals`. We recommend you start setting `weights_only=True` for any use case where you don't have full control of the loaded file. Please open an issue on GitHub for any issues related to this experimental feature.\n",
      "  state_dict = torch.load(f)\n"
     ]
    },
    {
     "name": "stdout",
     "output_type": "stream",
     "text": [
      "[INFO] SAM Mask Processor using device: cuda\n"
     ]
    }
   ],
   "source": [
    "# Load model and move to CUDA\n",
    "sam = sam_model_registry[\"vit_h\"](checkpoint=\"C:/Users/danielkh/jupyter_lab_env/sam_vit_h_4b8939.pth\")\n",
    "sam.to(\"cuda\")\n",
    "\n",
    "# Create the mask generator\n",
    "mask_generator = SamAutomaticMaskGenerator(sam)\n",
    "\n",
    "# Initialize the processor (no change here)\n",
    "processor = SamMaskProcessor(mask_generator)"
   ]
  },
  {
   "cell_type": "markdown",
   "id": "2369dced",
   "metadata": {},
   "source": [
    "## 3. Load Image Stack from .prz File"
   ]
  },
  {
   "cell_type": "code",
   "execution_count": 4,
   "id": "27b05592",
   "metadata": {},
   "outputs": [],
   "source": [
    "# Load your .prz image stack\n",
    "image_stack = processor.load_prz_data(\"X:/ThinFilms/Benchmarks/Filter/240521-NaPhi1-remeasure-tilt/NBED-007b/DataCube_0.prz\")"
   ]
  },
  {
   "cell_type": "markdown",
   "id": "7f19be78",
   "metadata": {},
   "source": [
    "## 4. Generate and Sort Masks"
   ]
  },
  {
   "cell_type": "code",
   "execution_count": null,
   "id": "99829902",
   "metadata": {},
   "outputs": [],
   "source": [
    "# Process images and get masks\n",
    "masks = processor.get_masks_list(image_stack)"
   ]
  },
  {
   "cell_type": "code",
   "execution_count": null,
   "id": "daf3c9e2-d9fb-4acd-9bab-01669a4d7a53",
   "metadata": {},
   "outputs": [],
   "source": [
    "# with open(\"./masks.pkl\", \"wb\") as f:\n",
    "#     pickle.dump(masks, f)\n"
   ]
  },
  {
   "cell_type": "code",
   "execution_count": 5,
   "id": "a00c92c4-9c09-42bf-86c4-08c6a8070f27",
   "metadata": {},
   "outputs": [],
   "source": [
    "with open(\"masks.pkl\", \"rb\") as f:\n",
    "    masks = pickle.load(f)\n",
    "masks = np.array(masks)"
   ]
  },
  {
   "cell_type": "markdown",
   "id": "69df787b",
   "metadata": {},
   "source": [
    "## 5. Filter Masks Based on Shape and Size"
   ]
  },
  {
   "cell_type": "code",
   "execution_count": 6,
   "id": "e37fc287-7ab2-453f-b55b-6497a4685bb9",
   "metadata": {},
   "outputs": [],
   "source": [
    "filtered_masks = [processor.filter_masks(mask) for mask in masks]\n"
   ]
  },
  {
   "cell_type": "markdown",
   "id": "e24eef07",
   "metadata": {},
   "source": [
    "## 6. Visualize or Save Masks"
   ]
  },
  {
   "cell_type": "code",
   "execution_count": 7,
   "id": "f489eb1a-2c5f-4dfc-aa7f-bedec6952ff9",
   "metadata": {},
   "outputs": [],
   "source": [
    "import matplotlib.pyplot as plt"
   ]
  },
  {
   "cell_type": "code",
   "execution_count": 8,
   "id": "1e07d0f2-f4d5-4db9-9794-a1e15ab53142",
   "metadata": {},
   "outputs": [],
   "source": [
    "import numpy as np\n",
    "\n",
    "def extract_line_angles(filtered_masks):\n",
    "    \"\"\"\n",
    "    Returns an array (len = number of images), each entry is the min/max/mean line angle or NaN if none.\n",
    "    \"\"\"\n",
    "    angles_array = np.full(len(filtered_masks), np.nan)\n",
    "\n",
    "    for i, mask_list in enumerate(filtered_masks):\n",
    "        if not mask_list or not isinstance(mask_list, list):\n",
    "            continue  # No valid masks\n",
    "        \n",
    "        angles = [m['angle'] for m in mask_list if 'angle' in m]\n",
    "        if not angles:\n",
    "            continue\n",
    "\n",
    "        angles_array[i] = np.min(angles)\n",
    "        # elif method == 'max':\n",
    "        #     angles_array[i] = np.max(angles)\n",
    "        # elif method == 'mean':\n",
    "        #     angles_array[i] = np.mean(angles)\n",
    "\n",
    "    return angles_array\n",
    "\n"
   ]
  },
  {
   "cell_type": "code",
   "execution_count": 9,
   "id": "62770db9-248f-49bb-b9f7-a4315ce44aea",
   "metadata": {},
   "outputs": [],
   "source": [
    "line_angle_array = extract_line_angles(filtered_masks)"
   ]
  },
  {
   "cell_type": "code",
   "execution_count": 26,
   "id": "45822774-c95f-483d-8a79-2f7fa311eda8",
   "metadata": {},
   "outputs": [
    {
     "data": {
      "text/plain": [
       "<matplotlib.colorbar.Colorbar at 0x23ae30e9490>"
      ]
     },
     "execution_count": 26,
     "metadata": {},
     "output_type": "execute_result"
    },
    {
     "data": {
      "image/png": "[encoded data removed]",
      "text/plain": [
       "<Figure size 640x480 with 2 Axes>"
      ]
     },
     "metadata": {},
     "output_type": "display_data"
    }
   ],
   "source": [
    "plt.imshow(line_angle_array.reshape(126,100),cmap=\"hsv\",interpolation=\"nearest\")\n",
    "plt.colorbar()"
   ]
  }
 ],
 "metadata": {
  "kernelspec": {
   "display_name": "Python 3 (ipykernel)",
   "language": "python",
   "name": "python3"
  },
  "language_info": {
   "codemirror_mode": {
    "name": "ipython",
    "version": 3
   },
   "file_extension": ".py",
   "mimetype": "text/x-python",
   "name": "python",
   "nbconvert_exporter": "python",
   "pygments_lexer": "ipython3",
   "version": "3.10.18"
  }
 },
 "nbformat": 4,
 "nbformat_minor": 5
}
